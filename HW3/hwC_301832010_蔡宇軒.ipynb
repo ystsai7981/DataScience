{
 "cells": [
  {
   "cell_type": "code",
   "execution_count": 1,
   "id": "ef59f21e-9592-4b34-9b63-06abc40c8141",
   "metadata": {},
   "outputs": [],
   "source": [
    "from PIL import Image\n",
    "import numpy as np\n",
    "%matplotlib inline\n",
    "import matplotlib\n",
    "import matplotlib.pyplot as plt\n",
    "from sklearn import datasets, svm, linear_model\n",
    "matplotlib.style.use('bmh')\n",
    "matplotlib.rcParams['figure.figsize']=(10,7)"
   ]
  },
  {
   "cell_type": "code",
   "execution_count": 2,
   "id": "72a57c98-25c3-4e0b-bc64-85be2a318cdf",
   "metadata": {},
   "outputs": [
    {
     "data": {
      "image/png": "[encoded data removed]",
      "text/plain": [
       "<PIL.Image.Image image mode=RGB size=500x500 at 0x7FABE0102CD0>"
      ]
     },
     "execution_count": 2,
     "metadata": {},
     "output_type": "execute_result"
    }
   ],
   "source": [
    "# other available images\n",
    "#pixels = np.array(Image.open('img/smw_yoshi_input.png'))\n",
    "pixels = np.array(Image.open('miniame.png'))\n",
    "pixels3d = []\n",
    "for i in range(pixels.shape[0]):\n",
    "    for j in range(pixels.shape[1]):\n",
    "        pixels3d.append(pixels[i][j][0:3])\n",
    "\n",
    "pixels3d = np.array(pixels3d).reshape(30,30,3)\n",
    "# plt.imshow(pixels3d)\n",
    "Image.fromarray(pixels3d).resize((500,500), Image.NEAREST)"
   ]
  },
  {
   "cell_type": "code",
   "execution_count": 3,
   "id": "a57a6ca8-3d42-4c52-ac83-01de42732fa1",
   "metadata": {},
   "outputs": [],
   "source": [
    "palette =  list(set(tuple(x) for x in pixels3d.reshape(-1, 3)))\n",
    "# palette"
   ]
  },
  {
   "cell_type": "code",
   "execution_count": 4,
   "id": "16b8f1e3-4706-4903-8542-2073e4d08382",
   "metadata": {},
   "outputs": [],
   "source": [
    "reverse_palette = {c:i for i, c in enumerate(palette)}\n",
    "# reverse_palette"
   ]
  },
  {
   "cell_type": "code",
   "execution_count": 5,
   "id": "42762420-722b-48dd-97e6-ac1d7951cd05",
   "metadata": {},
   "outputs": [],
   "source": [
    "h, w = pixels3d.shape[:2]\n",
    "X = np.mgrid[0:h, 0:w].reshape(2, -1).T\n",
    "y = np.array([reverse_palette[tuple(x)] for x in pixels3d.reshape(-1,3)])\n"
   ]
  },
  {
   "cell_type": "code",
   "execution_count": 6,
   "id": "c729c2b9-6373-4357-99cf-73d33325b3e2",
   "metadata": {},
   "outputs": [],
   "source": [
    "X = X.astype('float64')"
   ]
  },
  {
   "cell_type": "code",
   "execution_count": 7,
   "id": "65f38dab-cc8b-4fe9-bcba-85ee363fa19d",
   "metadata": {},
   "outputs": [],
   "source": [
    "X=np.concatenate([X, X+[.1,.1], X+[.1,-.1], X+[-.1,.1], X+[-.1,-.1]])\n",
    "# X = np.concatenate([X,X,X,X,X])\n",
    "y = np.concatenate([y,y,y,y,y])\n"
   ]
  },
  {
   "cell_type": "code",
   "execution_count": 8,
   "id": "bde7c63d-c735-4aaa-b653-d7dcb0e7d65a",
   "metadata": {},
   "outputs": [],
   "source": [
    "from matplotlib.colors import LinearSegmentedColormap\n",
    "cm= LinearSegmentedColormap.from_list(\n",
    "        \"cmm\", np.array(palette)/255 )\n",
    "matplotlib.rcParams['figure.figsize']=(10,10*h/w)"
   ]
  },
  {
   "cell_type": "code",
   "execution_count": 23,
   "id": "0f9fbca3-816b-47f9-9e5d-aa85219fbb51",
   "metadata": {},
   "outputs": [],
   "source": [
    "clf=svm.NuSVC(nu=0.003, kernel='rbf',\n",
    "            decision_function_shape='ovr', gamma=0.1)\n",
    "X_mean = X.mean(axis=0,keepdims=True)\n",
    "X_std = X.std()/10\n",
    "clf.fit((X-X_mean)/X_std, y)\n",
    "\n",
    "# 邊界\n",
    "x_min, y_min = X.min(axis=0)-1\n",
    "x_max, y_max = X.max(axis=0)+1\n",
    "\n",
    "# 座標點\n",
    "grid  = np.mgrid[x_min:x_max:800j, y_min:y_max:800j]\n",
    "# grid.shape = (2, 200, 200)\n",
    "\n",
    "# 在座標點 算出 svm 的判斷函數\n",
    "Z = clf.predict( (grid.reshape(2, -1).T-X_mean)/X_std)"
   ]
  },
  {
   "cell_type": "code",
   "execution_count": 24,
   "id": "60f5976f-9914-4e7b-888a-d26fd4f17c4f",
   "metadata": {},
   "outputs": [
    {
     "name": "stderr",
     "output_type": "stream",
     "text": [
      "/tmp/ipykernel_178457/2820215740.py:2: MatplotlibDeprecationWarning: shading='flat' when X and Y have the same dimensions as C is deprecated since 3.3.  Either specify the corners of the quadrilaterals with X and Y, or pass shading='auto', 'nearest' or 'gouraud', or set rcParams['pcolor.shading'].  This will become an error two minor releases later.\n",
      "  plt.pcolormesh(grid[1], h-grid[0], Z, cmap=cm, alpha=1);\n"
     ]
    },
    {
     "data": {
      "image/png": "[encoded data removed]",
      "text/plain": [
       "<Figure size 720x720 with 1 Axes>"
      ]
     },
     "metadata": {
      "needs_background": "light"
     },
     "output_type": "display_data"
    }
   ],
   "source": [
    "Z  = Z.reshape(grid.shape[1:])\n",
    "plt.pcolormesh(grid[1], h-grid[0], Z, cmap=cm, alpha=1);"
   ]
  },
  {
   "cell_type": "code",
   "execution_count": null,
   "id": "55fc6796-4ebc-4945-99cd-d5869bbcd6b8",
   "metadata": {},
   "outputs": [],
   "source": []
  }
 ],
 "metadata": {
  "kernelspec": {
   "display_name": "Python 3 (ipykernel)",
   "language": "python",
   "name": "python3"
  },
  "language_info": {
   "codemirror_mode": {
    "name": "ipython",
    "version": 3
   },
   "file_extension": ".py",
   "mimetype": "text/x-python",
   "name": "python",
   "nbconvert_exporter": "python",
   "pygments_lexer": "ipython3",
   "version": "3.9.2"
  }
 },
 "nbformat": 4,
 "nbformat_minor": 5
}
